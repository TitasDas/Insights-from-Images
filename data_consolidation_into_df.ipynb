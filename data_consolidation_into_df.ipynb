{
 "cells": [
  {
   "cell_type": "code",
   "execution_count": 87,
   "metadata": {},
   "outputs": [],
   "source": [
    "import pandas as pd\n",
    "import glob, os\n",
    "import re\n",
    "import numpy as np"
   ]
  },
  {
   "cell_type": "code",
   "execution_count": 130,
   "metadata": {},
   "outputs": [],
   "source": [
    "#path = 'enter path of images'\n",
    "image_files = glob.glob(path+'*.jpg')\n",
    "image_file_names = [s.strip(path) for s in image_files]\n",
    "#print(image_file_names)"
   ]
  },
  {
   "cell_type": "code",
   "execution_count": 131,
   "metadata": {},
   "outputs": [],
   "source": [
    "def string_to_int(text):\n",
    "    return int(text) if text.isdigit() else text\n",
    "def redefined_keys(text):\n",
    "    return [string_to_int(c) for c in re.split(r'(\\d+)', text)]                                              "
   ]
  },
  {
   "cell_type": "code",
   "execution_count": 132,
   "metadata": {},
   "outputs": [],
   "source": [
    "image_file_names.sort(key=redefined_keys)\n",
    "uniqlousa_df = pd.DataFrame(image_file_names, columns=['file_name'])\n",
    "uniqlousa_df.index = np.arange(1,len(initial_df)+1)\n",
    "uniqlousa_df['file_name'] = uniqlousa_df['file_name'].map(lambda x: x.rstrip('.jpg'))"
   ]
  },
  {
   "cell_type": "code",
   "execution_count": 133,
   "metadata": {},
   "outputs": [],
   "source": [
    "file_name = os.listdir(path)\n",
    "text_files = {}\n",
    "for file in file_name:\n",
    "    if file.endswith(\".txt\"):\n",
    "        with open(path + file, \"r\") as target_file:\n",
    "            text_files[file] = target_file.read()\n",
    "text_df = (pd.DataFrame.from_dict(text_files, orient='index')\n",
    "             .reset_index().rename(index = str, columns = {'index': 'file_name', 0: 'caption'}))\n",
    "text_df['file_name'] = text_df['file_name'].map(lambda x: x.rstrip('.txt'))"
   ]
  },
  {
   "cell_type": "code",
   "execution_count": 134,
   "metadata": {},
   "outputs": [],
   "source": [
    "uniqlousa_df_consolidated = pd.merge(uniqlousa_df, text_df, on=\"file_name\", how=\"left\")"
   ]
  },
  {
   "cell_type": "code",
   "execution_count": 135,
   "metadata": {},
   "outputs": [
    {
     "data": {
      "text/html": [
       "<div>\n",
       "<style scoped>\n",
       "    .dataframe tbody tr th:only-of-type {\n",
       "        vertical-align: middle;\n",
       "    }\n",
       "\n",
       "    .dataframe tbody tr th {\n",
       "        vertical-align: top;\n",
       "    }\n",
       "\n",
       "    .dataframe thead th {\n",
       "        text-align: right;\n",
       "    }\n",
       "</style>\n",
       "<table border=\"1\" class=\"dataframe\">\n",
       "  <thead>\n",
       "    <tr style=\"text-align: right;\">\n",
       "      <th></th>\n",
       "      <th>file_name</th>\n",
       "      <th>caption</th>\n",
       "    </tr>\n",
       "  </thead>\n",
       "  <tbody>\n",
       "    <tr>\n",
       "      <th>0</th>\n",
       "      <td>2017-06-21_06-19-49_UTC_profile_pic</td>\n",
       "      <td>NaN</td>\n",
       "    </tr>\n",
       "    <tr>\n",
       "      <th>1</th>\n",
       "      <td>2019-03-09_16-23-41_UTC</td>\n",
       "      <td>Where 5th Ave meets pop art. Now’s your chance...</td>\n",
       "    </tr>\n",
       "    <tr>\n",
       "      <th>2</th>\n",
       "      <td>2019-03-09_20-23-28_UTC</td>\n",
       "      <td>Wherever you travel, go in style! 🗺️ @elisegio...</td>\n",
       "    </tr>\n",
       "    <tr>\n",
       "      <th>3</th>\n",
       "      <td>2019-03-10_15-52-51_UTC</td>\n",
       "      <td>Keep it classic. 💯 @brendanfallis in our recen...</td>\n",
       "    </tr>\n",
       "    <tr>\n",
       "      <th>4</th>\n",
       "      <td>2019-03-11_14-00-18_UTC</td>\n",
       "      <td>Kanpai! Cheers! 🍶 Let's toast to the latest dr...</td>\n",
       "    </tr>\n",
       "    <tr>\n",
       "      <th>...</th>\n",
       "      <td>...</td>\n",
       "      <td>...</td>\n",
       "    </tr>\n",
       "    <tr>\n",
       "      <th>2258</th>\n",
       "      <td>2021-06-04_13-18-30_UTC_4</td>\n",
       "      <td>NaN</td>\n",
       "    </tr>\n",
       "    <tr>\n",
       "      <th>2259</th>\n",
       "      <td>2021-06-04_13-18-30_UTC_5</td>\n",
       "      <td>NaN</td>\n",
       "    </tr>\n",
       "    <tr>\n",
       "      <th>2260</th>\n",
       "      <td>2021-06-04_13-18-30_UTC_6</td>\n",
       "      <td>NaN</td>\n",
       "    </tr>\n",
       "    <tr>\n",
       "      <th>2261</th>\n",
       "      <td>2021-06-04_19-15-28_UTC</td>\n",
       "      <td>Rolling into the weekend like 🤗🚴‍♀️💙 #AIRism #...</td>\n",
       "    </tr>\n",
       "    <tr>\n",
       "      <th>2262</th>\n",
       "      <td>2021-06-05_14-01-48_UTC</td>\n",
       "      <td>Want to keep your weekend relaxed? We've got t...</td>\n",
       "    </tr>\n",
       "  </tbody>\n",
       "</table>\n",
       "<p>2263 rows × 2 columns</p>\n",
       "</div>"
      ],
      "text/plain": [
       "                                file_name  \\\n",
       "0     2017-06-21_06-19-49_UTC_profile_pic   \n",
       "1                 2019-03-09_16-23-41_UTC   \n",
       "2                 2019-03-09_20-23-28_UTC   \n",
       "3                 2019-03-10_15-52-51_UTC   \n",
       "4                 2019-03-11_14-00-18_UTC   \n",
       "...                                   ...   \n",
       "2258            2021-06-04_13-18-30_UTC_4   \n",
       "2259            2021-06-04_13-18-30_UTC_5   \n",
       "2260            2021-06-04_13-18-30_UTC_6   \n",
       "2261              2021-06-04_19-15-28_UTC   \n",
       "2262              2021-06-05_14-01-48_UTC   \n",
       "\n",
       "                                                caption  \n",
       "0                                                   NaN  \n",
       "1     Where 5th Ave meets pop art. Now’s your chance...  \n",
       "2     Wherever you travel, go in style! 🗺️ @elisegio...  \n",
       "3     Keep it classic. 💯 @brendanfallis in our recen...  \n",
       "4     Kanpai! Cheers! 🍶 Let's toast to the latest dr...  \n",
       "...                                                 ...  \n",
       "2258                                                NaN  \n",
       "2259                                                NaN  \n",
       "2260                                                NaN  \n",
       "2261  Rolling into the weekend like 🤗🚴‍♀️💙 #AIRism #...  \n",
       "2262  Want to keep your weekend relaxed? We've got t...  \n",
       "\n",
       "[2263 rows x 2 columns]"
      ]
     },
     "execution_count": 135,
     "metadata": {},
     "output_type": "execute_result"
    }
   ],
   "source": [
    "uniqlousa_df_consolidated"
   ]
  },
  {
   "cell_type": "code",
   "execution_count": null,
   "metadata": {},
   "outputs": [],
   "source": []
  },
  {
   "cell_type": "code",
   "execution_count": null,
   "metadata": {},
   "outputs": [],
   "source": [
    "#TODO add comments,likes from json\n",
    "import json \n",
    "import pprint\n",
    "json_data = None\n",
    "with open(path+'2019-03-27_14-15-02_UTC.json','r') as f:\n",
    "    data = f.read()\n",
    "    json_data = json.loads(data)\n",
    "pprint.pprint(json_data)"
   ]
  }
 ],
 "metadata": {
  "kernelspec": {
   "display_name": "Python 3",
   "language": "python",
   "name": "python3"
  },
  "language_info": {
   "codemirror_mode": {
    "name": "ipython",
    "version": 3
   },
   "file_extension": ".py",
   "mimetype": "text/x-python",
   "name": "python",
   "nbconvert_exporter": "python",
   "pygments_lexer": "ipython3",
   "version": "3.8.5"
  }
 },
 "nbformat": 4,
 "nbformat_minor": 4
}
